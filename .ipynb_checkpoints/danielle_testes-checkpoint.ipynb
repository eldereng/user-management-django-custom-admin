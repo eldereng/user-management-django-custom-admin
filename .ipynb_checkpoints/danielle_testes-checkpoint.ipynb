{
 "cells": [
  {
   "cell_type": "code",
   "execution_count": 11,
   "metadata": {},
   "outputs": [],
   "source": [
    "# libraries\n",
    "import requests\n",
    "import random\n",
    "\n",
    "import ipytest\n",
    "ipytest.autoconfig()"
   ]
  },
  {
   "cell_type": "code",
   "execution_count": 21,
   "metadata": {},
   "outputs": [
    {
     "name": "stdout",
     "output_type": "stream",
     "text": [
      "...                                                                                                              [100%]\n",
      "3 passed in 9.61s\n"
     ]
    }
   ],
   "source": [
    "%%run_pytest[clean]\n",
    "\n",
    "# User tests\n",
    "\n",
    "base_url = 'http://localhost:8000'\n",
    "\n",
    "def get_token_and_user_id(username, password):\n",
    "    response = requests.post(base_url + '/login/', {\n",
    "        \"username\": username,\n",
    "        \"password\": password\n",
    "    })\n",
    "    return response.json()\n",
    "\n",
    "def create_new_user(username, email, password):\n",
    "    response = requests.post(base_url + '/users/', {\n",
    "        \"username\": username,\n",
    "        \"email\": email,\n",
    "        \"password\": password\n",
    "    })\n",
    "    return response.json()\n",
    "\n",
    "def get_user_by_id(user_id):\n",
    "    response = requests.get(base_url + '/users/' + user_id + '/')\n",
    "    return response.json()\n",
    "\n",
    "# POST /login/\n",
    "def test_if_response_for_login_has_id_and_token_keys():\n",
    "    json_response = get_token_and_user_id(\"ted\", \"Ro0+1234\")\n",
    "    assert \"token\" in json_response.keys()\n",
    "    assert \"id\" in json_response.keys()\n",
    "\n",
    "# POST /users/\n",
    "def test_if_response_for_create_user_has_id_username_and_password_keys():\n",
    "    username = \"\".join([random.choice('abcdefghijklmnopqrstuvywxz') for _ in range(6)]) + \"_test\"\n",
    "    email = username + \"@gmail.com\"\n",
    "    password = \"Ro0+1234\"\n",
    "    json_response = create_new_user(username, email, password)\n",
    "    assert \"id\" in json_response.keys()\n",
    "    assert \"username\" in json_response.keys()\n",
    "    assert \"email\" in json_response.keys()\n",
    "    \n",
    "# GET /users/<id>/\n",
    "def test_if_response_for_get_user_match_user_id():\n",
    "    username = \"\".join([random.choice('abcdefghijklmnopqrstuvywxz') for _ in range(6)]) + \"_test\"\n",
    "    email = username + \"@gmail.com\"\n",
    "    password = \"Ro0+1234\"\n",
    "    new_user = create_new_user(username, email, password)\n",
    "    user_id = new_user['id']\n",
    "    json_response = get_user_by_id(str(user_id))\n",
    "    assert json_response['id'] == user_id"
   ]
  },
  {
   "cell_type": "code",
   "execution_count": 24,
   "metadata": {},
   "outputs": [
    {
     "name": "stdout",
     "output_type": "stream",
     "text": [
      "F                                                                                                                [100%]\n",
      "====================================================== FAILURES =======================================================\n",
      "_______________________________ test_if_people_list_return_count_results_next_previous ________________________________\n",
      "\n",
      "    def test_if_people_list_return_count_results_next_previous():\n",
      "        user = get_token_and_user_id(\"ted\", \"Ro0+1234\")\n",
      "        token = user['token']\n",
      "        response = requests.get(base_url + '/people/', headers={\n",
      "            \"Authorization\": \"Token {}\".format(token)\n",
      "        })\n",
      ">       json_response = response.json()\n",
      "\n",
      "<ipython-input-24-f6a2ca74d45d>:12: \n",
      "_ _ _ _ _ _ _ _ _ _ _ _ _ _ _ _ _ _ _ _ _ _ _ _ _ _ _ _ _ _ _ _ _ _ _ _ _ _ _ _ _ _ _ _ _ _ _ _ _ _ _ _ _ _ _ _ _ _ _ _\n",
      "..\\..\\anaconda3\\lib\\site-packages\\requests\\models.py:898: in json\n",
      "    return complexjson.loads(self.text, **kwargs)\n",
      "..\\..\\anaconda3\\lib\\json\\__init__.py:357: in loads\n",
      "    return _default_decoder.decode(s)\n",
      "..\\..\\anaconda3\\lib\\json\\decoder.py:337: in decode\n",
      "    obj, end = self.raw_decode(s, idx=_w(s, 0).end())\n",
      "_ _ _ _ _ _ _ _ _ _ _ _ _ _ _ _ _ _ _ _ _ _ _ _ _ _ _ _ _ _ _ _ _ _ _ _ _ _ _ _ _ _ _ _ _ _ _ _ _ _ _ _ _ _ _ _ _ _ _ _\n",
      "\n",
      "self = <json.decoder.JSONDecoder object at 0x00000183BCEAE130>\n",
      "s = '<!DOCTYPE html>\\n<html lang=\"en\">\\n<head>\\n  <meta http-equiv=\"content-type\" content=\"text/html; charset=utf-8\">\\n  <...hat to <code>False</code>, and Django\\n      will display a standard 404 page.\\n    </p>\\n  </div>\\n</body>\\n</html>\\n'\n",
      "idx = 0\n",
      "\n",
      "    def raw_decode(self, s, idx=0):\n",
      "        \"\"\"Decode a JSON document from ``s`` (a ``str`` beginning with\n",
      "        a JSON document) and return a 2-tuple of the Python\n",
      "        representation and the index in ``s`` where the document ended.\n",
      "    \n",
      "        This can be used to decode a JSON document from a string that may\n",
      "        have extraneous data at the end.\n",
      "    \n",
      "        \"\"\"\n",
      "        try:\n",
      "            obj, end = self.scan_once(s, idx)\n",
      "        except StopIteration as err:\n",
      ">           raise JSONDecodeError(\"Expecting value\", s, err.value) from None\n",
      "E           json.decoder.JSONDecodeError: Expecting value: line 1 column 1 (char 0)\n",
      "\n",
      "..\\..\\anaconda3\\lib\\json\\decoder.py:355: JSONDecodeError\n",
      "=============================================== short test summary info ===============================================\n",
      "FAILED tmp8k6tvi7j.py::test_if_people_list_return_count_results_next_previous - json.decoder.JSONDecodeError: Expecti...\n",
      "1 failed in 4.58s\n"
     ]
    }
   ],
   "source": [
    "%%run_pytest[clean]\n",
    "\n",
    "base_url = 'http://localhost:8000'\n",
    "\n",
    "# People tests\n",
    "\n",
    "# GET /people/\n",
    "def test_if_people_list_return_count_results_next_previous():\n",
    "    user = get_token_and_user_id(\"ted\", \"Ro0+1234\")\n",
    "    token = user['token']\n",
    "    response = requests.get(base_url + '/people/', headers={\n",
    "        \"Authorization\": \"Token {}\".format(token)\n",
    "    })\n",
    "    json_response = response.json()\n",
    "    assert \"results\" in response_json.keys()\n",
    "\n",
    "# GET /people/<id>/\n",
    "\n",
    "# POST /people/\n",
    "\n",
    "# PUT /people/<id>/\n",
    "\n",
    "# DELETE /people/<id>/\n",
    "\n",
    "# GET /people/?search=<name>\n",
    "\n"
   ]
  },
  {
   "cell_type": "code",
   "execution_count": 30,
   "metadata": {},
   "outputs": [
    {
     "data": {
      "text/plain": [
       "<Response [404]>"
      ]
     },
     "execution_count": 30,
     "metadata": {},
     "output_type": "execute_result"
    }
   ],
   "source": [
    "user = get_token_and_user_id(\"ted\", \"Ro0+1234\")\n",
    "token = user['token']\n",
    "response = requests.get(base_url + '/people/', headers={\n",
    "    \"Authorization\": \"Token {}\".format(token),\n",
    "    \"Content-Type\": \"application/json\",\n",
    "})\n",
    "response"
   ]
  },
  {
   "cell_type": "code",
   "execution_count": null,
   "metadata": {},
   "outputs": [],
   "source": []
  }
 ],
 "metadata": {
  "kernelspec": {
   "display_name": "Python 3",
   "language": "python",
   "name": "python3"
  },
  "language_info": {
   "codemirror_mode": {
    "name": "ipython",
    "version": 3
   },
   "file_extension": ".py",
   "mimetype": "text/x-python",
   "name": "python",
   "nbconvert_exporter": "python",
   "pygments_lexer": "ipython3",
   "version": "3.8.3"
  }
 },
 "nbformat": 4,
 "nbformat_minor": 4
}
